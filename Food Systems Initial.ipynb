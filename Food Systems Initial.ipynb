{
 "cells": [
  {
   "cell_type": "code",
   "execution_count": 1,
   "id": "8709b03e",
   "metadata": {},
   "outputs": [],
   "source": [
    "import tweepy\n",
    "import pandas as pd\n",
    "\n",
    "import os"
   ]
  },
  {
   "cell_type": "code",
   "execution_count": 2,
   "id": "690c52ce",
   "metadata": {},
   "outputs": [],
   "source": [
    "token = os.getenv('A_BEARER_TOKEN')\n",
    "\n",
    "client = tweepy.Client(token)"
   ]
  },
  {
   "cell_type": "code",
   "execution_count": 4,
   "id": "22059598",
   "metadata": {},
   "outputs": [],
   "source": [
    "start_date = '2021-01-01T00:00:00Z'\n",
    "end_date = '2022-01-01T00:00:00Z'"
   ]
  },
  {
   "cell_type": "code",
   "execution_count": 5,
   "id": "ca58e5aa",
   "metadata": {},
   "outputs": [],
   "source": [
    "granularity = 'day'"
   ]
  },
  {
   "cell_type": "code",
   "execution_count": 21,
   "id": "4aea571d",
   "metadata": {},
   "outputs": [],
   "source": [
    "query = '\"food systems\" -is:reply -is:retweet -is:quote'"
   ]
  },
  {
   "cell_type": "code",
   "execution_count": 22,
   "id": "02e6bc9a",
   "metadata": {},
   "outputs": [],
   "source": [
    "responses = []\n",
    "for response in tweepy.Paginator(client.get_all_tweets_count, query,\n",
    "                                    start_time=start_date,\n",
    "                                 end_time=end_date,\n",
    "                                 granularity=granularity):\n",
    "    responses.append(response)"
   ]
  },
  {
   "cell_type": "code",
   "execution_count": 24,
   "id": "2093fd92",
   "metadata": {},
   "outputs": [],
   "source": [
    "count_list = []\n",
    "for resp in responses:\n",
    "    count_list.extend(resp.data)\n",
    "\n",
    "df = pd.DataFrame(count_list)\n",
    "\n",
    "df['start'] = pd.to_datetime(df['start'])\n",
    "df = df.set_index('start')"
   ]
  },
  {
   "cell_type": "code",
   "execution_count": 26,
   "id": "6160b1a0",
   "metadata": {},
   "outputs": [
    {
     "data": {
      "text/plain": [
       "73003"
      ]
     },
     "execution_count": 26,
     "metadata": {},
     "output_type": "execute_result"
    }
   ],
   "source": [
    "df['tweet_count'].sum()"
   ]
  },
  {
   "cell_type": "markdown",
   "id": "2b5688b3",
   "metadata": {},
   "source": [
    "## Getting the tweets\n",
    "\n",
    "WE have 73k tweets to gather."
   ]
  },
  {
   "cell_type": "code",
   "execution_count": 27,
   "id": "c9523701",
   "metadata": {},
   "outputs": [],
   "source": [
    "max_results = 500\n",
    "tweet_fields = 'public_metrics,geo,created_at,author_id'\n",
    "user_fields = 'public_metrics,location,description,created_at'"
   ]
  },
  {
   "cell_type": "code",
   "execution_count": 56,
   "id": "332ff739",
   "metadata": {},
   "outputs": [],
   "source": [
    "responses = []\n",
    "for response in tweepy.Paginator(client.search_all_tweets, query,\n",
    "                                    start_time=start_date,\n",
    "                                     end_time=end_date,\n",
    "                                     max_results=max_results,\n",
    "                                 tweet_fields=tweet_fields,\n",
    "                                 user_fields=user_fields,\n",
    "                                expansions='author_id'):\n",
    "    responses.append(response)"
   ]
  },
  {
   "cell_type": "code",
   "execution_count": 57,
   "id": "fb63a818",
   "metadata": {},
   "outputs": [
    {
     "data": {
      "text/plain": [
       "tweepy.client.Response"
      ]
     },
     "execution_count": 57,
     "metadata": {},
     "output_type": "execute_result"
    }
   ],
   "source": [
    "type(responses[11])"
   ]
  },
  {
   "cell_type": "code",
   "execution_count": 67,
   "id": "eed2d9f6",
   "metadata": {},
   "outputs": [
    {
     "data": {
      "text/plain": [
       "'IT Project Leader and \\nBike Whisperer'"
      ]
     },
     "execution_count": 67,
     "metadata": {},
     "output_type": "execute_result"
    }
   ],
   "source": [
    "responses[0].includes['users'][0].description"
   ]
  },
  {
   "cell_type": "code",
   "execution_count": 113,
   "id": "14aa3fb9",
   "metadata": {},
   "outputs": [],
   "source": [
    "tweets = []\n",
    "users = []\n",
    "for response in responses:\n",
    "    data = response.data\n",
    "    user = response.includes['users']\n",
    "    for datum in data:\n",
    "        pm = datum.public_metrics\n",
    "        ai = datum.author_id\n",
    "        geo = datum.geo\n",
    "        ca = datum.created_at\n",
    "        t = datum.text\n",
    "        tid = datum.id\n",
    "        tweets.append([tid, t, ca, ai, pm, geo])\n",
    "    for u in user:\n",
    "        pm = u.public_metrics\n",
    "        de = u.description\n",
    "        ai = u.id\n",
    "        ca = u.created_at\n",
    "        lo = u.location\n",
    "        na = u.name\n",
    "        un = u.username\n",
    "        users.append([ai, na, un, de, ca, pm, lo])\n",
    "tweets = pd.DataFrame(tweets, columns=['id', 'text', 'created_at', 'author_id', 'public_metrics', 'geo'])\n",
    "users = pd.DataFrame(users, columns=['author_id', 'name', 'username', 'description', 'created_at', 'public_metrics', 'location'])"
   ]
  },
  {
   "cell_type": "code",
   "execution_count": 76,
   "id": "295871f2",
   "metadata": {},
   "outputs": [],
   "source": [
    "def get_likes(x):\n",
    "    return x['like_count']"
   ]
  },
  {
   "cell_type": "code",
   "execution_count": 114,
   "id": "177e8167",
   "metadata": {},
   "outputs": [],
   "source": [
    "tweets['likes'] = tweets['public_metrics'].apply(get_likes)\n",
    "tweets['RT'] = tweets['public_metrics'].apply(lambda x: x['retweet_count'])\n",
    "tweets['replies'] = tweets['public_metrics'].apply(lambda x: x['reply_count'])\n",
    "tweets['quotes'] = tweets['public_metrics'].apply(lambda x: x['quote_count'])"
   ]
  },
  {
   "cell_type": "code",
   "execution_count": 115,
   "id": "df7965b6",
   "metadata": {},
   "outputs": [],
   "source": [
    "tweets = tweets.sort_values('likes', ascending=False)"
   ]
  },
  {
   "cell_type": "code",
   "execution_count": 111,
   "id": "fb211b54",
   "metadata": {},
   "outputs": [],
   "source": [
    "tweets = tweets.merge(users[['author_id', 'name', 'description']], how='left')"
   ]
  },
  {
   "cell_type": "code",
   "execution_count": 120,
   "id": "e511c35b",
   "metadata": {},
   "outputs": [
    {
     "data": {
      "text/plain": [
       "27367"
      ]
     },
     "execution_count": 120,
     "metadata": {},
     "output_type": "execute_result"
    }
   ],
   "source": [
    "users['author_id'].nunique()"
   ]
  },
  {
   "cell_type": "code",
   "execution_count": 127,
   "id": "d228471c",
   "metadata": {},
   "outputs": [
    {
     "data": {
      "text/plain": [
       "array(['UN Food Systems Coordination Hub'], dtype=object)"
      ]
     },
     "execution_count": 127,
     "metadata": {},
     "output_type": "execute_result"
    }
   ],
   "source": [
    "users[users['author_id']==1222482817680072704]['name'].unique()"
   ]
  },
  {
   "cell_type": "code",
   "execution_count": 129,
   "id": "827381aa",
   "metadata": {},
   "outputs": [
    {
     "data": {
      "text/plain": [
       "author_id\n",
       "10367                  1\n",
       "851779879804825600     1\n",
       "851778482996695040     1\n",
       "851745265296060416     1\n",
       "851687412556333057     1\n",
       "                      ..\n",
       "482455281              1\n",
       "482353209              1\n",
       "482128456              1\n",
       "482046883              1\n",
       "1476280663192051735    1\n",
       "Name: description, Length: 27367, dtype: int64"
      ]
     },
     "execution_count": 129,
     "metadata": {},
     "output_type": "execute_result"
    }
   ],
   "source": [
    "users.groupby('author_id')['description'].nunique().sort_values()"
   ]
  },
  {
   "cell_type": "code",
   "execution_count": 136,
   "id": "78586646",
   "metadata": {},
   "outputs": [],
   "source": [
    "tweets = tweets.merge(users[['author_id', 'name', 'username', 'description']], how='left').drop_duplicates(subset=['id'])"
   ]
  },
  {
   "cell_type": "code",
   "execution_count": 145,
   "id": "c6c786ee",
   "metadata": {},
   "outputs": [],
   "source": [
    "tweets.to_csv('../data/food_systems_21_22_tweets.csv', index=False)\n",
    "users.to_csv('../data/food_systems_21_22_users.csv', index=False)"
   ]
  },
  {
   "cell_type": "code",
   "execution_count": 143,
   "id": "8c719efe",
   "metadata": {},
   "outputs": [
    {
     "data": {
      "text/plain": [
       "name\n",
       "Vice President Kamala Harris       12857.000000\n",
       "NASA                                7110.000000\n",
       "Lev                                 6725.000000\n",
       "Government of Brazil                4826.000000\n",
       "Ocean Panel                         3841.250000\n",
       "Bezos Earth Fund                    3216.000000\n",
       "Farmchain.Finance                   3164.000000\n",
       "Dharmendra Malik                    2232.000000\n",
       "Alastair Trickett                   1926.000000\n",
       "HH Sheikh Mohammed                  1697.000000\n",
       "Kiren Rijiju                        1496.000000\n",
       "NASA's Kennedy Space Center         1397.000000\n",
       "Megan McArthur                      1397.000000\n",
       "The Daily Show                      1368.000000\n",
       "The Rockefeller Foundation          1258.281250\n",
       "Matt 🌊                              1039.000000\n",
       "Shobha Karandlaje                   1026.000000\n",
       "BBC News (UK)                        976.000000\n",
       "Smriti Z Irani                       938.000000\n",
       "Robert F. Kennedy Jr                 929.500000\n",
       "Kisan Ekta Morcha                    898.000000\n",
       "The New York Times                   893.500000\n",
       "Peter Kalmus                         850.000000\n",
       "Secretary Antony Blinken             812.666667\n",
       "World Health Organization (WHO)      804.000000\n",
       "Sizwe SikaМusi KaMhlanga             799.000000\n",
       "Economist Impact                     780.909091\n",
       "Patricia Isabel Escárcega            768.000000\n",
       "António Guterres                     763.333333\n",
       "The ECLT Foundation                  724.000000\n",
       "CNN                                  706.000000\n",
       "Chef Andrew Gruel                    703.500000\n",
       "Rebecca English                      654.000000\n",
       "Nyazia                               632.000000\n",
       "José Andrés                          594.000000\n",
       "NASA Mars                            545.000000\n",
       "NASA Artemis                         539.000000\n",
       "Jackie Coffin                        513.000000\n",
       "Julia Bradbury🇺🇦                     509.000000\n",
       "Joyce Bagala Ntwatwa                 508.000000\n",
       "Name: likes, dtype: float64"
      ]
     },
     "execution_count": 143,
     "metadata": {},
     "output_type": "execute_result"
    }
   ],
   "source": [
    "tweets.groupby(['name'])['likes'].mean().sort_values(ascending=False).head(40)"
   ]
  },
  {
   "cell_type": "code",
   "execution_count": 139,
   "id": "c79f7019",
   "metadata": {},
   "outputs": [
    {
     "data": {
      "text/plain": [
       "0           The Rockefeller Foundation\n",
       "27                         Ocean Panel\n",
       "31        Vice President Kamala Harris\n",
       "32            UN Environment Programme\n",
       "69          The Rockefeller Foundation\n",
       "96                                NASA\n",
       "97                                 Lev\n",
       "98                Government of Brazil\n",
       "99                        João Campari\n",
       "155                   Economist Impact\n",
       "174                              Devex\n",
       "229                   Bezos Earth Fund\n",
       "230         The Rockefeller Foundation\n",
       "257                  Farmchain.Finance\n",
       "258                   Economist Impact\n",
       "277                     The Daily Show\n",
       "279         The Rockefeller Foundation\n",
       "306                   Dharmendra Malik\n",
       "307                   Economist Impact\n",
       "326                  Alastair Trickett\n",
       "327                   Economist Impact\n",
       "346                   Economist Impact\n",
       "365                   Economist Impact\n",
       "384                         World Bank\n",
       "398                 HH Sheikh Mohammed\n",
       "399                   Economist Impact\n",
       "418    World Health Organization (WHO)\n",
       "424                   Economist Impact\n",
       "443                   Economist Impact\n",
       "462                       Kiren Rijiju\n",
       "463                               AGRF\n",
       "503                         World Bank\n",
       "517                   Economist Impact\n",
       "536        NASA's Kennedy Space Center\n",
       "537                     Megan McArthur\n",
       "538                   Economist Impact\n",
       "557                         World Bank\n",
       "571                           Syngenta\n",
       "578                   António Guterres\n",
       "581                  Chef Andrew Gruel\n",
       "Name: name, dtype: object"
      ]
     },
     "execution_count": 139,
     "metadata": {},
     "output_type": "execute_result"
    }
   ],
   "source": [
    "tweets['name'].head(40)"
   ]
  },
  {
   "cell_type": "code",
   "execution_count": 137,
   "id": "67bf8c27",
   "metadata": {},
   "outputs": [
    {
     "data": {
      "text/plain": [
       "UN Food Systems Coordination Hub                      1014\n",
       "CGIAR                                                  351\n",
       "IFPRI                                                  321\n",
       "Inter Press Service                                    304\n",
       "WorldFish                                              275\n",
       "Global Alliance for the Future of Food                 258\n",
       "Peter Herz                                             229\n",
       "International Fund for Agricultural Development        208\n",
       "CGIAR | Climate-smart agriculture                      186\n",
       "CropLife International                                 181\n",
       "SIANI                                                  168\n",
       "FISH_CGIAR                                             164\n",
       "Global Food Systems Institute UF IFAS                  164\n",
       "World Obesity                                          157\n",
       "GlobalActionPW                                         153\n",
       "CGIAR Nutrition                                        140\n",
       "CGIAR Platform for Big Data in Agriculture             136\n",
       "GAIN                                                   135\n",
       "CIFOR                                                  131\n",
       "FutureFoodInstitute                                    121\n",
       "CIMMYT                                                 120\n",
       "Paul Newnham 🇦🇺                                        119\n",
       "Farming First                                          116\n",
       "AGRA - Sustainably Growing Africa’s Food Systems.      111\n",
       "MFogde                                                 110\n",
       "Covid-19 Food/Future                                   108\n",
       "WaterLandEcosystems                                    108\n",
       "Grow Further                                           105\n",
       "World Food Prize Foundation                            101\n",
       "World Food Forum                                        99\n",
       "50by40                                                  96\n",
       "The Global FoodBanking Network                          89\n",
       "CGIAR GENDER                                            86\n",
       "Bearing Witness for Ecology etc. by Big Earth Data      86\n",
       "LaC Med                                                 85\n",
       "Devex                                                   84\n",
       "The Global Structure Network                            82\n",
       "João Campari                                            82\n",
       "ORF                                                     82\n",
       "SDG2AdvocacyHub                                         80\n",
       "Name: name, dtype: int64"
      ]
     },
     "execution_count": 137,
     "metadata": {},
     "output_type": "execute_result"
    }
   ],
   "source": [
    "tweets['name'].value_counts().head(40)"
   ]
  },
  {
   "cell_type": "code",
   "execution_count": 130,
   "id": "56718266",
   "metadata": {},
   "outputs": [
    {
     "data": {
      "text/html": [
       "<div>\n",
       "<style scoped>\n",
       "    .dataframe tbody tr th:only-of-type {\n",
       "        vertical-align: middle;\n",
       "    }\n",
       "\n",
       "    .dataframe tbody tr th {\n",
       "        vertical-align: top;\n",
       "    }\n",
       "\n",
       "    .dataframe thead th {\n",
       "        text-align: right;\n",
       "    }\n",
       "</style>\n",
       "<table border=\"1\" class=\"dataframe\">\n",
       "  <thead>\n",
       "    <tr style=\"text-align: right;\">\n",
       "      <th></th>\n",
       "      <th>id</th>\n",
       "      <th>text</th>\n",
       "      <th>created_at</th>\n",
       "      <th>author_id</th>\n",
       "      <th>public_metrics</th>\n",
       "      <th>geo</th>\n",
       "      <th>likes</th>\n",
       "      <th>RT</th>\n",
       "      <th>replies</th>\n",
       "      <th>quotes</th>\n",
       "    </tr>\n",
       "  </thead>\n",
       "  <tbody>\n",
       "    <tr>\n",
       "      <th>55470</th>\n",
       "      <td>1387415579276058630</td>\n",
       "      <td>Young people are already leading change for a ...</td>\n",
       "      <td>2021-04-28 14:37:05+00:00</td>\n",
       "      <td>119049214</td>\n",
       "      <td>{'retweet_count': 1367, 'reply_count': 162, 'l...</td>\n",
       "      <td>None</td>\n",
       "      <td>26779</td>\n",
       "      <td>1367</td>\n",
       "      <td>162</td>\n",
       "      <td>51</td>\n",
       "    </tr>\n",
       "    <tr>\n",
       "      <th>25303</th>\n",
       "      <td>1435996068869820422</td>\n",
       "      <td>This week's summit could be a turning point to...</td>\n",
       "      <td>2021-09-09 15:58:36+00:00</td>\n",
       "      <td>1022601625897197568</td>\n",
       "      <td>{'retweet_count': 573, 'reply_count': 96, 'lik...</td>\n",
       "      <td>None</td>\n",
       "      <td>15348</td>\n",
       "      <td>573</td>\n",
       "      <td>96</td>\n",
       "      <td>12</td>\n",
       "    </tr>\n",
       "    <tr>\n",
       "      <th>64999</th>\n",
       "      <td>1364731320891564034</td>\n",
       "      <td>Congratulations to Secretary of Agriculture To...</td>\n",
       "      <td>2021-02-25 00:17:57+00:00</td>\n",
       "      <td>803694179079458816</td>\n",
       "      <td>{'retweet_count': 1378, 'reply_count': 390, 'l...</td>\n",
       "      <td>None</td>\n",
       "      <td>12857</td>\n",
       "      <td>1378</td>\n",
       "      <td>390</td>\n",
       "      <td>74</td>\n",
       "    </tr>\n",
       "    <tr>\n",
       "      <th>60175</th>\n",
       "      <td>1376398729910087680</td>\n",
       "      <td>Women are responsible for over half the world’...</td>\n",
       "      <td>2021-03-29 05:00:04+00:00</td>\n",
       "      <td>38146999</td>\n",
       "      <td>{'retweet_count': 412, 'reply_count': 39, 'lik...</td>\n",
       "      <td>None</td>\n",
       "      <td>9365</td>\n",
       "      <td>412</td>\n",
       "      <td>39</td>\n",
       "      <td>10</td>\n",
       "    </tr>\n",
       "    <tr>\n",
       "      <th>47293</th>\n",
       "      <td>1405632593404465159</td>\n",
       "      <td>Are you 13-18 and passionate about ending hung...</td>\n",
       "      <td>2021-06-17 21:05:00+00:00</td>\n",
       "      <td>119049214</td>\n",
       "      <td>{'retweet_count': 409, 'reply_count': 72, 'lik...</td>\n",
       "      <td>None</td>\n",
       "      <td>7351</td>\n",
       "      <td>409</td>\n",
       "      <td>72</td>\n",
       "      <td>24</td>\n",
       "    </tr>\n",
       "    <tr>\n",
       "      <th>...</th>\n",
       "      <td>...</td>\n",
       "      <td>...</td>\n",
       "      <td>...</td>\n",
       "      <td>...</td>\n",
       "      <td>...</td>\n",
       "      <td>...</td>\n",
       "      <td>...</td>\n",
       "      <td>...</td>\n",
       "      <td>...</td>\n",
       "      <td>...</td>\n",
       "    </tr>\n",
       "    <tr>\n",
       "      <th>36162</th>\n",
       "      <td>1420395948975525898</td>\n",
       "      <td>RT FAOArgentina \"La Precumbre de los Sistemas ...</td>\n",
       "      <td>2021-07-28 14:49:18+00:00</td>\n",
       "      <td>2752828414</td>\n",
       "      <td>{'retweet_count': 0, 'reply_count': 0, 'like_c...</td>\n",
       "      <td>None</td>\n",
       "      <td>0</td>\n",
       "      <td>0</td>\n",
       "      <td>0</td>\n",
       "      <td>0</td>\n",
       "    </tr>\n",
       "    <tr>\n",
       "      <th>36160</th>\n",
       "      <td>1420396579769438211</td>\n",
       "      <td>Caritas calls for fairer food systems that inc...</td>\n",
       "      <td>2021-07-28 14:51:48+00:00</td>\n",
       "      <td>1183102925150834688</td>\n",
       "      <td>{'retweet_count': 0, 'reply_count': 0, 'like_c...</td>\n",
       "      <td>None</td>\n",
       "      <td>0</td>\n",
       "      <td>0</td>\n",
       "      <td>0</td>\n",
       "      <td>0</td>\n",
       "    </tr>\n",
       "    <tr>\n",
       "      <th>36155</th>\n",
       "      <td>1420398389599031302</td>\n",
       "      <td>TODAY,  join the Mary Ann Swetland Center for ...</td>\n",
       "      <td>2021-07-28 14:59:00+00:00</td>\n",
       "      <td>1240616277774925824</td>\n",
       "      <td>{'retweet_count': 0, 'reply_count': 0, 'like_c...</td>\n",
       "      <td>None</td>\n",
       "      <td>0</td>\n",
       "      <td>0</td>\n",
       "      <td>0</td>\n",
       "      <td>0</td>\n",
       "    </tr>\n",
       "    <tr>\n",
       "      <th>36154</th>\n",
       "      <td>1420398706780778497</td>\n",
       "      <td>We are looking for a Clinical Instructor (CI) ...</td>\n",
       "      <td>2021-07-28 15:00:16+00:00</td>\n",
       "      <td>621407061</td>\n",
       "      <td>{'retweet_count': 0, 'reply_count': 0, 'like_c...</td>\n",
       "      <td>None</td>\n",
       "      <td>0</td>\n",
       "      <td>0</td>\n",
       "      <td>0</td>\n",
       "      <td>0</td>\n",
       "    </tr>\n",
       "    <tr>\n",
       "      <th>71640</th>\n",
       "      <td>1344808009336238081</td>\n",
       "      <td>https://t.co/rdhVumyH7R\\n\\nhttps://t.co/046YSO...</td>\n",
       "      <td>2021-01-01 00:49:49+00:00</td>\n",
       "      <td>1222416324049145856</td>\n",
       "      <td>{'retweet_count': 0, 'reply_count': 0, 'like_c...</td>\n",
       "      <td>None</td>\n",
       "      <td>0</td>\n",
       "      <td>0</td>\n",
       "      <td>0</td>\n",
       "      <td>0</td>\n",
       "    </tr>\n",
       "  </tbody>\n",
       "</table>\n",
       "<p>71641 rows × 10 columns</p>\n",
       "</div>"
      ],
      "text/plain": [
       "                        id                                               text  \\\n",
       "55470  1387415579276058630  Young people are already leading change for a ...   \n",
       "25303  1435996068869820422  This week's summit could be a turning point to...   \n",
       "64999  1364731320891564034  Congratulations to Secretary of Agriculture To...   \n",
       "60175  1376398729910087680  Women are responsible for over half the world’...   \n",
       "47293  1405632593404465159  Are you 13-18 and passionate about ending hung...   \n",
       "...                    ...                                                ...   \n",
       "36162  1420395948975525898  RT FAOArgentina \"La Precumbre de los Sistemas ...   \n",
       "36160  1420396579769438211  Caritas calls for fairer food systems that inc...   \n",
       "36155  1420398389599031302  TODAY,  join the Mary Ann Swetland Center for ...   \n",
       "36154  1420398706780778497  We are looking for a Clinical Instructor (CI) ...   \n",
       "71640  1344808009336238081  https://t.co/rdhVumyH7R\\n\\nhttps://t.co/046YSO...   \n",
       "\n",
       "                     created_at            author_id  \\\n",
       "55470 2021-04-28 14:37:05+00:00            119049214   \n",
       "25303 2021-09-09 15:58:36+00:00  1022601625897197568   \n",
       "64999 2021-02-25 00:17:57+00:00   803694179079458816   \n",
       "60175 2021-03-29 05:00:04+00:00             38146999   \n",
       "47293 2021-06-17 21:05:00+00:00            119049214   \n",
       "...                         ...                  ...   \n",
       "36162 2021-07-28 14:49:18+00:00           2752828414   \n",
       "36160 2021-07-28 14:51:48+00:00  1183102925150834688   \n",
       "36155 2021-07-28 14:59:00+00:00  1240616277774925824   \n",
       "36154 2021-07-28 15:00:16+00:00            621407061   \n",
       "71640 2021-01-01 00:49:49+00:00  1222416324049145856   \n",
       "\n",
       "                                          public_metrics   geo  likes    RT  \\\n",
       "55470  {'retweet_count': 1367, 'reply_count': 162, 'l...  None  26779  1367   \n",
       "25303  {'retweet_count': 573, 'reply_count': 96, 'lik...  None  15348   573   \n",
       "64999  {'retweet_count': 1378, 'reply_count': 390, 'l...  None  12857  1378   \n",
       "60175  {'retweet_count': 412, 'reply_count': 39, 'lik...  None   9365   412   \n",
       "47293  {'retweet_count': 409, 'reply_count': 72, 'lik...  None   7351   409   \n",
       "...                                                  ...   ...    ...   ...   \n",
       "36162  {'retweet_count': 0, 'reply_count': 0, 'like_c...  None      0     0   \n",
       "36160  {'retweet_count': 0, 'reply_count': 0, 'like_c...  None      0     0   \n",
       "36155  {'retweet_count': 0, 'reply_count': 0, 'like_c...  None      0     0   \n",
       "36154  {'retweet_count': 0, 'reply_count': 0, 'like_c...  None      0     0   \n",
       "71640  {'retweet_count': 0, 'reply_count': 0, 'like_c...  None      0     0   \n",
       "\n",
       "       replies  quotes  \n",
       "55470      162      51  \n",
       "25303       96      12  \n",
       "64999      390      74  \n",
       "60175       39      10  \n",
       "47293       72      24  \n",
       "...        ...     ...  \n",
       "36162        0       0  \n",
       "36160        0       0  \n",
       "36155        0       0  \n",
       "36154        0       0  \n",
       "71640        0       0  \n",
       "\n",
       "[71641 rows x 10 columns]"
      ]
     },
     "execution_count": 130,
     "metadata": {},
     "output_type": "execute_result"
    }
   ],
   "source": [
    "tweets"
   ]
  },
  {
   "cell_type": "code",
   "execution_count": 122,
   "id": "b41e2908",
   "metadata": {},
   "outputs": [
    {
     "data": {
      "text/plain": [
       "25615"
      ]
     },
     "execution_count": 122,
     "metadata": {},
     "output_type": "execute_result"
    }
   ],
   "source": [
    "users['description'].nunique()"
   ]
  },
  {
   "cell_type": "code",
   "execution_count": 117,
   "id": "8400c823",
   "metadata": {},
   "outputs": [
    {
     "data": {
      "text/plain": [
       "Index(['id', 'text', 'created_at', 'author_id', 'public_metrics', 'geo',\n",
       "       'likes', 'RT', 'replies', 'quotes'],\n",
       "      dtype='object')"
      ]
     },
     "execution_count": 117,
     "metadata": {},
     "output_type": "execute_result"
    }
   ],
   "source": [
    "tweets.columns"
   ]
  },
  {
   "cell_type": "code",
   "execution_count": 116,
   "id": "f1361b83",
   "metadata": {},
   "outputs": [
    {
     "data": {
      "text/plain": [
       "1222482817680072704    1014\n",
       "343267635               351\n",
       "37926315                321\n",
       "17650854                304\n",
       "264037493               275\n",
       "2151671676              258\n",
       "15805265                229\n",
       "36924745                208\n",
       "57341938                186\n",
       "104728023               181\n",
       "596282368               168\n",
       "847318530957524992      164\n",
       "887367308435390464      164\n",
       "214404702               157\n",
       "250716147               153\n",
       "844944194867224576      140\n",
       "832607371214123008      136\n",
       "69279164                135\n",
       "92027622                131\n",
       "2467726476              121\n",
       "20212944                120\n",
       "8637852                 119\n",
       "27845025                116\n",
       "369746571               111\n",
       "550059210               110\n",
       "1245981415784747008     108\n",
       "149531849               108\n",
       "1299746565544972289     105\n",
       "43849753                101\n",
       "1255781862133415937      99\n",
       "1161326804759531520      96\n",
       "26480747                 89\n",
       "1266563068223504389      86\n",
       "936557520986001410       86\n",
       "1305958646455644160      85\n",
       "50101725                 84\n",
       "180748385                82\n",
       "862935748198113282       82\n",
       "897105984400875520       82\n",
       "847708639662022656       80\n",
       "Name: author_id, dtype: int64"
      ]
     },
     "execution_count": 116,
     "metadata": {},
     "output_type": "execute_result"
    }
   ],
   "source": [
    "tweets['author_id'].value_counts().head(40)"
   ]
  },
  {
   "cell_type": "code",
   "execution_count": 88,
   "id": "1f484830",
   "metadata": {},
   "outputs": [
    {
     "data": {
      "text/plain": [
       "array([[\"Young people are already leading change for a healthier planet 🌍 It's past time they be reflected in the leadership of our #FoodSystems.\\nMeet activists who are fighting food waste; ending hunger; making food fair.\\n\\n📣 Submit YOUR food system solutions: https://t.co/ogMqs9veHy\",\n",
       "        26779],\n",
       "       [\"This week's summit could be a turning point to bring about tangible, positive changes to the world’s food systems.\\n \\nRT if you support food from the ocean as a solution to achieving global food security.  \\n\\n➡️https://t.co/1H0zfeFP81.\",\n",
       "        15348],\n",
       "       ['Congratulations to Secretary of Agriculture Tom Vilsack on his swearing-in. During this critical time, @SecVilsack brings first-hand experience to strengthening our rural economy, building better food systems while combatting climate change, and helping end hunger. https://t.co/uCPlJdQbGs',\n",
       "        12857],\n",
       "       ['Women are responsible for over half the world’s food production, particularly in developing nations. Strong #foodsystems mean empowering women and bolstering their livelihoods around the globe.\\n\\nhttps://t.co/cvabN9wapL\\n📷 IFAD/Edward Echwalu https://t.co/Lnu8x32hRs',\n",
       "        9365],\n",
       "       ['Are you 13-18 and passionate about ending hunger, climate action, school meals for all, or improving our #foodsystems? Submit a one minute video with your ideas. Six winners will be steamed at the UN Food Systems Summit to a global audience.\\n\\nVisit: https://t.co/fpN3r3NA1k https://t.co/kxuFS17Rhu',\n",
       "        7351],\n",
       "       [\"In coordination with @csa_asc, our new @NASAPrize, the Deep Space Food Challenge, offers up to a $500K prize purse for ideas on how to provide astronauts healthy, tasty food for longer missions to Mars and beyond.\\n\\n🍲 Here's how you can compete: https://t.co/ZB2YArVdeX https://t.co/jU2c4gHOFM\",\n",
       "        7110],\n",
       "       ['This \"gardening discourse\" shows that many of you don\\'t understand the fragility of our food systems and how quickly they will be halted or destroyed by climate disaster',\n",
       "        6725],\n",
       "       ['President Jair Bolsonaro will deliver the opening speech at 76th session of the United Nations General Assembly, on Sept. 21st. Brazil will also take part in high-level meetings on the Covid19 pandemic, peace operations, human rights, food systems and energy, amongst others. https://t.co/BAal1mmCR0',\n",
       "        4826],\n",
       "       ['Ask me anything about food systems transformation by commenting below or tweeting with #WWFJoaoAMA this month!\\n\\n🚨 We only have nine harvests left and must make them count by adopting #naturepositive food practices at scale. https://t.co/u33eHBuxYB',\n",
       "        4555],\n",
       "       ['As G20 countries prepare to make commitments for the coming decades, we explore the performance of their food systems across the FSI’s three pillars—food loss and waste, sustainable agriculture and nutritional challenges. Read more: https://t.co/TfSzhJRM1l (Via @BarillaCFN)',\n",
       "        4494],\n",
       "       ['Healthy soil is essential to our collective well-being, food security, and environmental stability — including climate, water, and biodiversity. Read the article: https://t.co/xN3fpL3iC3 #sponsored #soilhealth\\n\\nLearn more about the @Rabobank Carbon Bank: https://t.co/GS8cWMYZgx',\n",
       "        3685],\n",
       "       ['.@BezosEarthFund announces $3B for nature at the #COP26 Leader’s Summit in Glasgow. These funds will be targeted at a three fold agenda: conservation, restoration, and food systems transformation. https://t.co/oVlwa2hLOi',\n",
       "        3216],\n",
       "       ['YOU have the power to create + be heard.\\n\\nTogether with @videosforchange, we are amplifying youth voices around the UN Food Systems Summit.\\n\\n▶️Get inspiration from this sample video: https://t.co/3pXDORD2rn\\n\\n📽️Submit your own video: https://t.co/fpN3r3vZ9M',\n",
       "        3197],\n",
       "       [\"It's Official!\\nWe are getting stronger and will still stronger.\\nJoin us in this global Community to disrupt traditional financing and contribute to Sustainable food Systems in line with the UN SDG.\\n\\n#Farmchainfinance #Defi #protocol  #agribusiness #Bsc #NFT https://t.co/6bIqnKeczs\",\n",
       "        3164],\n",
       "       ['Which countries are setting clear targets to address food loss and waste? Click below to explore the findings of our study on Fixing Food 2021 as we seek to examine how G20 food systems are performing across the FSI’s three pillars. (Via @BarillaCFN)',\n",
       "        2951],\n",
       "       ['This Thanksgiving, consider supporting the Native American Food Sovereignty Alliance in their work restoring food systems in Native communities.\\n\\nDonate at https://t.co/xMfwxwvDiw https://t.co/XkgVjvhQQa',\n",
       "        2301],\n",
       "       ['📅 Mark your calendars for the FoodxFilm Festival (@foodxfilmfest)!\\n\\nDuring the @UN Food Systems Summit, panelists like @karwasher, @wanuri, @jenniferjacquet, will share stories for more just, equitable food systems: https://t.co/2bknQ4kG3c https://t.co/AXP6aNvpnA',\n",
       "        2253],\n",
       "       ['￼\\n\\nThe UN Food Systems Summit is hogwash. It is a threat to peoples’ food sovereignty\\n#BoycottUnFoodsumit https://t.co/eyzjlaJqCZ',\n",
       "        2232],\n",
       "       [\"As the G20 countries prepare to make commitments for the coming decades, join us on Thursday July 15th 2021 to discuss what the findings of the 2021 Food Sustainability Index say about the sustainability of G20 countries' food systems. https://t.co/calRPQNUCJ (Via @BarillaCFN)\",\n",
       "        2165],\n",
       "       ['The fact that in the minds of consumers the environmental comparison of these two (or any) food systems has been reduced to looking at CO2 emissions alone, is a triumph for “plant-based” Corporate Advertising and a disaster for the rest of us. https://t.co/yS2rUSjfAq',\n",
       "        1926]], dtype=object)"
      ]
     },
     "execution_count": 88,
     "metadata": {},
     "output_type": "execute_result"
    }
   ],
   "source": [
    "tweets[['text', 'likes']].head(20).values"
   ]
  },
  {
   "cell_type": "code",
   "execution_count": 81,
   "id": "61fe820f",
   "metadata": {},
   "outputs": [
    {
     "data": {
      "text/html": [
       "<div>\n",
       "<style scoped>\n",
       "    .dataframe tbody tr th:only-of-type {\n",
       "        vertical-align: middle;\n",
       "    }\n",
       "\n",
       "    .dataframe tbody tr th {\n",
       "        vertical-align: top;\n",
       "    }\n",
       "\n",
       "    .dataframe thead th {\n",
       "        text-align: right;\n",
       "    }\n",
       "</style>\n",
       "<table border=\"1\" class=\"dataframe\">\n",
       "  <thead>\n",
       "    <tr style=\"text-align: right;\">\n",
       "      <th></th>\n",
       "      <th>id</th>\n",
       "      <th>text</th>\n",
       "      <th>created_at</th>\n",
       "      <th>author_id</th>\n",
       "      <th>public_metrics</th>\n",
       "      <th>geo</th>\n",
       "      <th>likes</th>\n",
       "      <th>RT</th>\n",
       "      <th>replies</th>\n",
       "      <th>quotes</th>\n",
       "    </tr>\n",
       "  </thead>\n",
       "  <tbody>\n",
       "    <tr>\n",
       "      <th>55470</th>\n",
       "      <td>1387415579276058630</td>\n",
       "      <td>Young people are already leading change for a ...</td>\n",
       "      <td>2021-04-28 14:37:05+00:00</td>\n",
       "      <td>119049214</td>\n",
       "      <td>{'retweet_count': 1367, 'reply_count': 162, 'l...</td>\n",
       "      <td>None</td>\n",
       "      <td>26779</td>\n",
       "      <td>1367</td>\n",
       "      <td>162</td>\n",
       "      <td>51</td>\n",
       "    </tr>\n",
       "    <tr>\n",
       "      <th>25303</th>\n",
       "      <td>1435996068869820422</td>\n",
       "      <td>This week's summit could be a turning point to...</td>\n",
       "      <td>2021-09-09 15:58:36+00:00</td>\n",
       "      <td>1022601625897197568</td>\n",
       "      <td>{'retweet_count': 573, 'reply_count': 96, 'lik...</td>\n",
       "      <td>None</td>\n",
       "      <td>15348</td>\n",
       "      <td>573</td>\n",
       "      <td>96</td>\n",
       "      <td>12</td>\n",
       "    </tr>\n",
       "    <tr>\n",
       "      <th>64999</th>\n",
       "      <td>1364731320891564034</td>\n",
       "      <td>Congratulations to Secretary of Agriculture To...</td>\n",
       "      <td>2021-02-25 00:17:57+00:00</td>\n",
       "      <td>803694179079458816</td>\n",
       "      <td>{'retweet_count': 1378, 'reply_count': 390, 'l...</td>\n",
       "      <td>None</td>\n",
       "      <td>12857</td>\n",
       "      <td>1378</td>\n",
       "      <td>390</td>\n",
       "      <td>74</td>\n",
       "    </tr>\n",
       "    <tr>\n",
       "      <th>60175</th>\n",
       "      <td>1376398729910087680</td>\n",
       "      <td>Women are responsible for over half the world’...</td>\n",
       "      <td>2021-03-29 05:00:04+00:00</td>\n",
       "      <td>38146999</td>\n",
       "      <td>{'retweet_count': 412, 'reply_count': 39, 'lik...</td>\n",
       "      <td>None</td>\n",
       "      <td>9365</td>\n",
       "      <td>412</td>\n",
       "      <td>39</td>\n",
       "      <td>10</td>\n",
       "    </tr>\n",
       "    <tr>\n",
       "      <th>47293</th>\n",
       "      <td>1405632593404465159</td>\n",
       "      <td>Are you 13-18 and passionate about ending hung...</td>\n",
       "      <td>2021-06-17 21:05:00+00:00</td>\n",
       "      <td>119049214</td>\n",
       "      <td>{'retweet_count': 409, 'reply_count': 72, 'lik...</td>\n",
       "      <td>None</td>\n",
       "      <td>7351</td>\n",
       "      <td>409</td>\n",
       "      <td>72</td>\n",
       "      <td>24</td>\n",
       "    </tr>\n",
       "    <tr>\n",
       "      <th>...</th>\n",
       "      <td>...</td>\n",
       "      <td>...</td>\n",
       "      <td>...</td>\n",
       "      <td>...</td>\n",
       "      <td>...</td>\n",
       "      <td>...</td>\n",
       "      <td>...</td>\n",
       "      <td>...</td>\n",
       "      <td>...</td>\n",
       "      <td>...</td>\n",
       "    </tr>\n",
       "    <tr>\n",
       "      <th>36162</th>\n",
       "      <td>1420395948975525898</td>\n",
       "      <td>RT FAOArgentina \"La Precumbre de los Sistemas ...</td>\n",
       "      <td>2021-07-28 14:49:18+00:00</td>\n",
       "      <td>2752828414</td>\n",
       "      <td>{'retweet_count': 0, 'reply_count': 0, 'like_c...</td>\n",
       "      <td>None</td>\n",
       "      <td>0</td>\n",
       "      <td>0</td>\n",
       "      <td>0</td>\n",
       "      <td>0</td>\n",
       "    </tr>\n",
       "    <tr>\n",
       "      <th>36160</th>\n",
       "      <td>1420396579769438211</td>\n",
       "      <td>Caritas calls for fairer food systems that inc...</td>\n",
       "      <td>2021-07-28 14:51:48+00:00</td>\n",
       "      <td>1183102925150834688</td>\n",
       "      <td>{'retweet_count': 0, 'reply_count': 0, 'like_c...</td>\n",
       "      <td>None</td>\n",
       "      <td>0</td>\n",
       "      <td>0</td>\n",
       "      <td>0</td>\n",
       "      <td>0</td>\n",
       "    </tr>\n",
       "    <tr>\n",
       "      <th>36155</th>\n",
       "      <td>1420398389599031302</td>\n",
       "      <td>TODAY,  join the Mary Ann Swetland Center for ...</td>\n",
       "      <td>2021-07-28 14:59:00+00:00</td>\n",
       "      <td>1240616277774925824</td>\n",
       "      <td>{'retweet_count': 0, 'reply_count': 0, 'like_c...</td>\n",
       "      <td>None</td>\n",
       "      <td>0</td>\n",
       "      <td>0</td>\n",
       "      <td>0</td>\n",
       "      <td>0</td>\n",
       "    </tr>\n",
       "    <tr>\n",
       "      <th>36154</th>\n",
       "      <td>1420398706780778497</td>\n",
       "      <td>We are looking for a Clinical Instructor (CI) ...</td>\n",
       "      <td>2021-07-28 15:00:16+00:00</td>\n",
       "      <td>621407061</td>\n",
       "      <td>{'retweet_count': 0, 'reply_count': 0, 'like_c...</td>\n",
       "      <td>None</td>\n",
       "      <td>0</td>\n",
       "      <td>0</td>\n",
       "      <td>0</td>\n",
       "      <td>0</td>\n",
       "    </tr>\n",
       "    <tr>\n",
       "      <th>71640</th>\n",
       "      <td>1344808009336238081</td>\n",
       "      <td>https://t.co/rdhVumyH7R\\n\\nhttps://t.co/046YSO...</td>\n",
       "      <td>2021-01-01 00:49:49+00:00</td>\n",
       "      <td>1222416324049145856</td>\n",
       "      <td>{'retweet_count': 0, 'reply_count': 0, 'like_c...</td>\n",
       "      <td>None</td>\n",
       "      <td>0</td>\n",
       "      <td>0</td>\n",
       "      <td>0</td>\n",
       "      <td>0</td>\n",
       "    </tr>\n",
       "  </tbody>\n",
       "</table>\n",
       "<p>71641 rows × 10 columns</p>\n",
       "</div>"
      ],
      "text/plain": [
       "                        id                                               text  \\\n",
       "55470  1387415579276058630  Young people are already leading change for a ...   \n",
       "25303  1435996068869820422  This week's summit could be a turning point to...   \n",
       "64999  1364731320891564034  Congratulations to Secretary of Agriculture To...   \n",
       "60175  1376398729910087680  Women are responsible for over half the world’...   \n",
       "47293  1405632593404465159  Are you 13-18 and passionate about ending hung...   \n",
       "...                    ...                                                ...   \n",
       "36162  1420395948975525898  RT FAOArgentina \"La Precumbre de los Sistemas ...   \n",
       "36160  1420396579769438211  Caritas calls for fairer food systems that inc...   \n",
       "36155  1420398389599031302  TODAY,  join the Mary Ann Swetland Center for ...   \n",
       "36154  1420398706780778497  We are looking for a Clinical Instructor (CI) ...   \n",
       "71640  1344808009336238081  https://t.co/rdhVumyH7R\\n\\nhttps://t.co/046YSO...   \n",
       "\n",
       "                     created_at            author_id  \\\n",
       "55470 2021-04-28 14:37:05+00:00            119049214   \n",
       "25303 2021-09-09 15:58:36+00:00  1022601625897197568   \n",
       "64999 2021-02-25 00:17:57+00:00   803694179079458816   \n",
       "60175 2021-03-29 05:00:04+00:00             38146999   \n",
       "47293 2021-06-17 21:05:00+00:00            119049214   \n",
       "...                         ...                  ...   \n",
       "36162 2021-07-28 14:49:18+00:00           2752828414   \n",
       "36160 2021-07-28 14:51:48+00:00  1183102925150834688   \n",
       "36155 2021-07-28 14:59:00+00:00  1240616277774925824   \n",
       "36154 2021-07-28 15:00:16+00:00            621407061   \n",
       "71640 2021-01-01 00:49:49+00:00  1222416324049145856   \n",
       "\n",
       "                                          public_metrics   geo  likes    RT  \\\n",
       "55470  {'retweet_count': 1367, 'reply_count': 162, 'l...  None  26779  1367   \n",
       "25303  {'retweet_count': 573, 'reply_count': 96, 'lik...  None  15348   573   \n",
       "64999  {'retweet_count': 1378, 'reply_count': 390, 'l...  None  12857  1378   \n",
       "60175  {'retweet_count': 412, 'reply_count': 39, 'lik...  None   9365   412   \n",
       "47293  {'retweet_count': 409, 'reply_count': 72, 'lik...  None   7351   409   \n",
       "...                                                  ...   ...    ...   ...   \n",
       "36162  {'retweet_count': 0, 'reply_count': 0, 'like_c...  None      0     0   \n",
       "36160  {'retweet_count': 0, 'reply_count': 0, 'like_c...  None      0     0   \n",
       "36155  {'retweet_count': 0, 'reply_count': 0, 'like_c...  None      0     0   \n",
       "36154  {'retweet_count': 0, 'reply_count': 0, 'like_c...  None      0     0   \n",
       "71640  {'retweet_count': 0, 'reply_count': 0, 'like_c...  None      0     0   \n",
       "\n",
       "       replies  quotes  \n",
       "55470      162      51  \n",
       "25303       96      12  \n",
       "64999      390      74  \n",
       "60175       39      10  \n",
       "47293       72      24  \n",
       "...        ...     ...  \n",
       "36162        0       0  \n",
       "36160        0       0  \n",
       "36155        0       0  \n",
       "36154        0       0  \n",
       "71640        0       0  \n",
       "\n",
       "[71641 rows x 10 columns]"
      ]
     },
     "execution_count": 81,
     "metadata": {},
     "output_type": "execute_result"
    }
   ],
   "source": [
    "tweets"
   ]
  },
  {
   "cell_type": "code",
   "execution_count": 75,
   "id": "5b50ed55",
   "metadata": {},
   "outputs": [
    {
     "data": {
      "text/plain": [
       "{'retweet_count': 0, 'reply_count': 0, 'like_count': 0, 'quote_count': 0}"
      ]
     },
     "execution_count": 75,
     "metadata": {},
     "output_type": "execute_result"
    }
   ],
   "source": [
    "tweets.loc[0, 'public_metrics']"
   ]
  },
  {
   "cell_type": "code",
   "execution_count": 29,
   "id": "180fb51a",
   "metadata": {},
   "outputs": [
    {
     "data": {
      "text/plain": [
       "146"
      ]
     },
     "execution_count": 29,
     "metadata": {},
     "output_type": "execute_result"
    }
   ],
   "source": [
    "len(responses)"
   ]
  },
  {
   "cell_type": "code",
   "execution_count": 110,
   "id": "de269d76",
   "metadata": {},
   "outputs": [
    {
     "data": {
      "text/plain": [
       "<AxesSubplot:xlabel='start'>"
      ]
     },
     "execution_count": 110,
     "metadata": {},
     "output_type": "execute_result"
    },
    {
     "data": {
      "image/png": "[encoded data removed]",
      "text/plain": [
       "<Figure size 432x288 with 1 Axes>"
      ]
     },
     "metadata": {
      "needs_background": "light"
     },
     "output_type": "display_data"
    }
   ],
   "source": [
    "df3['tweet_count'].plot()"
   ]
  },
  {
   "cell_type": "code",
   "execution_count": 70,
   "id": "f140772b",
   "metadata": {},
   "outputs": [
    {
     "data": {
      "text/plain": [
       "<AxesSubplot:xlabel='start'>"
      ]
     },
     "execution_count": 70,
     "metadata": {},
     "output_type": "execute_result"
    },
    {
     "data": {
      "image/png": "[encoded data removed]",
      "text/plain": [
       "<Figure size 432x288 with 1 Axes>"
      ]
     },
     "metadata": {
      "needs_background": "light"
     },
     "output_type": "display_data"
    }
   ],
   "source": [
    "df3['tweet_count'].plot()"
   ]
  },
  {
   "cell_type": "code",
   "execution_count": 29,
   "id": "4ddc178d",
   "metadata": {},
   "outputs": [],
   "source": [
    "df = pd.DataFrame(response.data)"
   ]
  },
  {
   "cell_type": "code",
   "execution_count": 51,
   "id": "953fe223",
   "metadata": {},
   "outputs": [],
   "source": [
    "df2 = pd.DataFrame(response2.data)"
   ]
  },
  {
   "cell_type": "code",
   "execution_count": 52,
   "id": "f7c94bcb",
   "metadata": {},
   "outputs": [],
   "source": [
    "df3 = pd.DataFrame(response3.data)"
   ]
  },
  {
   "cell_type": "code",
   "execution_count": 41,
   "id": "8ad9df93",
   "metadata": {},
   "outputs": [],
   "source": [
    "df['start'] = pd.to_datetime(df['start'])"
   ]
  },
  {
   "cell_type": "code",
   "execution_count": 42,
   "id": "51ea2b07",
   "metadata": {},
   "outputs": [],
   "source": [
    "df2['start'] = pd.to_datetime(df2['start'])"
   ]
  },
  {
   "cell_type": "code",
   "execution_count": 45,
   "id": "2f9a8bdb",
   "metadata": {},
   "outputs": [],
   "source": [
    "df = df.set_index('start')"
   ]
  },
  {
   "cell_type": "code",
   "execution_count": 46,
   "id": "d1f61fb3",
   "metadata": {},
   "outputs": [],
   "source": [
    "df2 = df2.set_index('start')"
   ]
  },
  {
   "cell_type": "code",
   "execution_count": 47,
   "id": "84588c36",
   "metadata": {},
   "outputs": [
    {
     "data": {
      "text/plain": [
       "<AxesSubplot:xlabel='start'>"
      ]
     },
     "execution_count": 47,
     "metadata": {},
     "output_type": "execute_result"
    },
    {
     "data": {
      "image/png": "[encoded data removed]",
      "text/plain": [
       "<Figure size 432x288 with 1 Axes>"
      ]
     },
     "metadata": {
      "needs_background": "light"
     },
     "output_type": "display_data"
    }
   ],
   "source": [
    "df['tweet_count'].plot()"
   ]
  },
  {
   "cell_type": "code",
   "execution_count": 48,
   "id": "6dc91ba9",
   "metadata": {},
   "outputs": [
    {
     "data": {
      "text/plain": [
       "<AxesSubplot:xlabel='start'>"
      ]
     },
     "execution_count": 48,
     "metadata": {},
     "output_type": "execute_result"
    },
    {
     "data": {
      "image/png": "[encoded data removed]",
      "text/plain": [
       "<Figure size 432x288 with 1 Axes>"
      ]
     },
     "metadata": {
      "needs_background": "light"
     },
     "output_type": "display_data"
    }
   ],
   "source": [
    "df2['tweet_count'].plot()"
   ]
  },
  {
   "cell_type": "code",
   "execution_count": 37,
   "id": "e0ed5691",
   "metadata": {},
   "outputs": [
    {
     "data": {
      "text/plain": [
       "46066"
      ]
     },
     "execution_count": 37,
     "metadata": {},
     "output_type": "execute_result"
    }
   ],
   "source": [
    "df2['tweet_count'].sum()"
   ]
  },
  {
   "cell_type": "code",
   "execution_count": 31,
   "id": "94f2e4af",
   "metadata": {},
   "outputs": [
    {
     "data": {
      "text/plain": [
       "14050"
      ]
     },
     "execution_count": 31,
     "metadata": {},
     "output_type": "execute_result"
    }
   ],
   "source": [
    "df['tweet_count'].sum()"
   ]
  }
 ],
 "metadata": {
  "kernelspec": {
   "display_name": "Python 3 (ipykernel)",
   "language": "python",
   "name": "python3"
  },
  "language_info": {
   "codemirror_mode": {
    "name": "ipython",
    "version": 3
   },
   "file_extension": ".py",
   "mimetype": "text/x-python",
   "name": "python",
   "nbconvert_exporter": "python",
   "pygments_lexer": "ipython3",
   "version": "3.10.11"
  }
 },
 "nbformat": 4,
 "nbformat_minor": 5
}
